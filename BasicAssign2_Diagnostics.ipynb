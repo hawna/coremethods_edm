{
 "cells": [
  {
   "cell_type": "code",
   "execution_count": 2,
   "metadata": {
    "scrolled": true
   },
   "outputs": [
    {
     "data": {
      "text/html": [
       "<div>\n",
       "<style scoped>\n",
       "    .dataframe tbody tr th:only-of-type {\n",
       "        vertical-align: middle;\n",
       "    }\n",
       "\n",
       "    .dataframe tbody tr th {\n",
       "        vertical-align: top;\n",
       "    }\n",
       "\n",
       "    .dataframe thead th {\n",
       "        text-align: right;\n",
       "    }\n",
       "</style>\n",
       "<table border=\"1\" class=\"dataframe\">\n",
       "  <thead>\n",
       "    <tr style=\"text-align: right;\">\n",
       "      <th></th>\n",
       "      <th>Data</th>\n",
       "      <th>Predicted (Model)</th>\n",
       "    </tr>\n",
       "  </thead>\n",
       "  <tbody>\n",
       "    <tr>\n",
       "      <th>0</th>\n",
       "      <td>Y</td>\n",
       "      <td>0.225136</td>\n",
       "    </tr>\n",
       "    <tr>\n",
       "      <th>1</th>\n",
       "      <td>N</td>\n",
       "      <td>0.015355</td>\n",
       "    </tr>\n",
       "    <tr>\n",
       "      <th>2</th>\n",
       "      <td>N</td>\n",
       "      <td>0.000100</td>\n",
       "    </tr>\n",
       "    <tr>\n",
       "      <th>3</th>\n",
       "      <td>Y</td>\n",
       "      <td>0.417205</td>\n",
       "    </tr>\n",
       "    <tr>\n",
       "      <th>4</th>\n",
       "      <td>N</td>\n",
       "      <td>0.000100</td>\n",
       "    </tr>\n",
       "  </tbody>\n",
       "</table>\n",
       "</div>"
      ],
      "text/plain": [
       "  Data  Predicted (Model)\n",
       "0    Y           0.225136\n",
       "1    N           0.015355\n",
       "2    N           0.000100\n",
       "3    Y           0.417205\n",
       "4    N           0.000100"
      ]
     },
     "execution_count": 2,
     "metadata": {},
     "output_type": "execute_result"
    }
   ],
   "source": [
    "#Basic Assignment 2: Diagnostic Metrics\n",
    "\n",
    "#Question 11 of 11: What is this detector’s value for A’? \n",
    "#Use the roc_auc_score package inthe sklearn.metrics Python library \n",
    "#to answer this question. Please limit your answer to 2 decimal places\n",
    "\n",
    "\n",
    "#First, import the following: \n",
    "#the pandas library and roc_auc_score from the sklearn.metrics library\n",
    "\n",
    "#Import required packages\n",
    "import pandas as pd\n",
    "from sklearn.metrics import roc_auc_score\n",
    "import os\n",
    "\n",
    "#Read in the dataset using pandas\n",
    "#If dataset is in the same folder with this file it should read it in.\n",
    "df = pd.read_csv('classifier-data-asgn2.csv')\n",
    "\n",
    "#Example of using the full file path just in case.\n",
    "#data = pd.read_csv('C:/Users/Put/Your/Filepath/Here/Godwin_dataset.csv')\n",
    "\n",
    "#Check the file\n",
    "df.head()"
   ]
  },
  {
   "cell_type": "code",
   "execution_count": 3,
   "metadata": {},
   "outputs": [
    {
     "name": "stdout",
     "output_type": "stream",
     "text": [
      "C:\\Users\\perci\\OneDrive\\Documents\\04_Teaching\\Core Methods in EDM\\Assignments\\BasicAssign2_DiagMetrics\n"
     ]
    }
   ],
   "source": [
    "#Find where this notebook is in case you need a filepath \n",
    "#to load the dataset\n",
    "print(os.getcwd())"
   ]
  },
  {
   "cell_type": "code",
   "execution_count": 5,
   "metadata": {
    "scrolled": true
   },
   "outputs": [],
   "source": [
    "#Store the observed and predicted values \n",
    "#into separate lists. \n",
    "#Be sure to turn the Ys and Ns in the \n",
    "#observed column into 1s and 0s, respectively.\n",
    "\n",
    "y_true = []\n",
    "y_score = []\n",
    "\n",
    "for index, row in df.iterrows():\n",
    "    true = 1 if row['Data'] == 'Y' else 0\n",
    "    y_true.append(true)\n",
    "    y_score.append(row['Predicted (Model)'])"
   ]
  },
  {
   "cell_type": "code",
   "execution_count": 6,
   "metadata": {
    "scrolled": true
   },
   "outputs": [
    {
     "name": "stdout",
     "output_type": "stream",
     "text": [
      "0.9457537448124893\n"
     ]
    }
   ],
   "source": [
    "print(roc_auc_score(y_true, y_score))\n",
    "\n",
    "#Answer is 0.95"
   ]
  },
  {
   "cell_type": "code",
   "execution_count": null,
   "metadata": {},
   "outputs": [],
   "source": [
    "#Question 11 of 11: \n",
    "#What is this detector’s value for A’? \n",
    "#(Hint: There are some data points with the exact same \n",
    "#detector confidence, \n",
    "#so it is probably preferable to use a tool \n",
    "#that computes A’, such as\n",
    "\n",
    "#http://www.columbia.edu/~rsb2162/computeAPrime.zip \n",
    "\n",
    "#-- rather than a tool that computes \n",
    "#the area underthe ROC curve). \n",
    "#Please limit your answer to 2 decimal places."
   ]
  }
 ],
 "metadata": {
  "kernelspec": {
   "display_name": "Python 3",
   "language": "python",
   "name": "python3"
  },
  "language_info": {
   "codemirror_mode": {
    "name": "ipython",
    "version": 3
   },
   "file_extension": ".py",
   "mimetype": "text/x-python",
   "name": "python",
   "nbconvert_exporter": "python",
   "pygments_lexer": "ipython3",
   "version": "3.7.3"
  }
 },
 "nbformat": 4,
 "nbformat_minor": 2
}
