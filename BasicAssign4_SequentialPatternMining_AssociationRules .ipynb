{
 "cells": [
  {
   "cell_type": "code",
   "execution_count": 2,
   "metadata": {},
   "outputs": [
    {
     "name": "stdout",
     "output_type": "stream",
     "text": [
      "Requirement already satisfied: mlxtend in c:\\users\\perci\\anaconda3\\lib\\site-packages (0.17.3)\n",
      "Requirement already satisfied: numpy>=1.16.2 in c:\\users\\perci\\anaconda3\\lib\\site-packages (from mlxtend) (1.16.2)\n",
      "Requirement already satisfied: joblib>=0.13.2 in c:\\users\\perci\\anaconda3\\lib\\site-packages (from mlxtend) (0.16.0)\n",
      "Requirement already satisfied: scipy>=1.2.1 in c:\\users\\perci\\anaconda3\\lib\\site-packages (from mlxtend) (1.2.1)\n",
      "Requirement already satisfied: scikit-learn>=0.20.3 in c:\\users\\perci\\anaconda3\\lib\\site-packages (from mlxtend) (0.20.3)\n",
      "Requirement already satisfied: setuptools in c:\\users\\perci\\anaconda3\\lib\\site-packages (from mlxtend) (40.8.0)\n",
      "Requirement already satisfied: matplotlib>=3.0.0 in c:\\users\\perci\\anaconda3\\lib\\site-packages (from mlxtend) (3.0.3)\n",
      "Requirement already satisfied: pandas>=0.24.2 in c:\\users\\perci\\anaconda3\\lib\\site-packages (from mlxtend) (0.24.2)\n",
      "Requirement already satisfied: cycler>=0.10 in c:\\users\\perci\\anaconda3\\lib\\site-packages (from matplotlib>=3.0.0->mlxtend) (0.10.0)\n",
      "Requirement already satisfied: kiwisolver>=1.0.1 in c:\\users\\perci\\anaconda3\\lib\\site-packages (from matplotlib>=3.0.0->mlxtend) (1.0.1)\n",
      "Requirement already satisfied: pyparsing!=2.0.4,!=2.1.2,!=2.1.6,>=2.0.1 in c:\\users\\perci\\anaconda3\\lib\\site-packages (from matplotlib>=3.0.0->mlxtend) (2.3.1)\n",
      "Requirement already satisfied: python-dateutil>=2.1 in c:\\users\\perci\\anaconda3\\lib\\site-packages (from matplotlib>=3.0.0->mlxtend) (2.8.0)\n",
      "Requirement already satisfied: pytz>=2011k in c:\\users\\perci\\anaconda3\\lib\\site-packages (from pandas>=0.24.2->mlxtend) (2018.9)\n",
      "Requirement already satisfied: six in c:\\users\\perci\\anaconda3\\lib\\site-packages (from cycler>=0.10->matplotlib>=3.0.0->mlxtend) (1.12.0)\n",
      "Note: you may need to restart the kernel to use updated packages.\n"
     ]
    }
   ],
   "source": [
    "#Basic Assignment 4\n",
    "#Sequential Pattern Mining and Association Rules\n",
    "\n",
    "#Question 1 of 11: \n",
    "#In order to perform association rule mining, \n",
    "#we first need to get the most frequently occurring items in the data set \n",
    "#using the a priori algorithm. Which single-item itemsets have a support of 1.0?\n",
    "\n",
    "#Answer: A. resources\n",
    "\n",
    "#In order to perform association rule mining on Python, \n",
    "#you will first need to install the mlxtend package.\n",
    "\n",
    "%pip install mlxtend\n",
    "\n",
    "#Import the necessary classes: apriori, association rules\n",
    "\n",
    "from mlxtend.frequent_patterns import apriori, association_rules\n",
    "\n",
    "#Import other required packages\n",
    "\n",
    "# Import other packages you will need\n",
    "#import numpy as np\n",
    "import pandas as pd\n",
    "import os\n",
    "#import csv"
   ]
  },
  {
   "cell_type": "code",
   "execution_count": 3,
   "metadata": {},
   "outputs": [
    {
     "name": "stdout",
     "output_type": "stream",
     "text": [
      "C:\\Users\\perci\\OneDrive\\Documents\\04_Teaching\\Core Methods in EDM\\Assignments\\BasicAssign4_\n"
     ]
    }
   ],
   "source": [
    "#Find where this notebook is in case you need a filepath \n",
    "#to load the dataset\n",
    "print(os.getcwd())"
   ]
  },
  {
   "cell_type": "code",
   "execution_count": null,
   "metadata": {},
   "outputs": [],
   "source": [
    "#Read in the dataset using pandas\n",
    "#If dataset is in the same folder with this file it should read it in.\n",
    "data = pd.read_csv('a6-in-assoc.csv')\n",
    "\n",
    "#Example of using the full file path just in case.\n",
    "#data = pd.read_csv('C:/Users/Put/Your/Filepath/Here/Godwin_dataset.csv')\n",
    "\n",
    "#Check the file\n",
    "data.head()"
   ]
  },
  {
   "cell_type": "code",
   "execution_count": null,
   "metadata": {
    "scrolled": true
   },
   "outputs": [],
   "source": [
    "#Drop the column that identifies the classroom id\n",
    "data_1 = data.drop(['row'], axis=1)\n",
    "\n",
    "data_1.head()"
   ]
  },
  {
   "cell_type": "code",
   "execution_count": null,
   "metadata": {},
   "outputs": [],
   "source": [
    "#You need to get the list of frequent itemsets. \n",
    "#You can do this using the apriori operator.\n",
    "\n",
    "#Get the list of frequent itemsets and print to csv for easy sorting\n",
    "\n",
    "frequent_item_sets = apriori(data_1, min_support=0.4, use_colnames=True)\n",
    "\n",
    "frequent_item_sets.to_csv('itemsets.csv')\n",
    "\n",
    "frequent_item_sets.head()\n",
    "\n",
    "#Open the csv file using a spreadsheet tool and sort by support.\n",
    "\n",
    "#The answers is resources.\n",
    "\n",
    "#The other single-item itemsets with a support of 1.0 \n",
    "#are other_nonacademic and content_specific."
   ]
  },
  {
   "cell_type": "code",
   "execution_count": null,
   "metadata": {},
   "outputs": [],
   "source": [
    "#Question 2 of 11: What does it mean for an item to have a support of 1.0 in this context?\n",
    "#Answwer: C. Each decoration type appears in every classroom."
   ]
  },
  {
   "cell_type": "code",
   "execution_count": null,
   "metadata": {},
   "outputs": [],
   "source": [
    "#Question 3 of 11: Now conduct association rule mining using \n",
    "#the list of frequent itemsets. \n",
    "#Which of these association rules has the highest support?\n",
    "\n",
    "#Answer: B. resources --> content_specific\n",
    "\n",
    "#You can get the set of association rules by using the association_rules operator, \n",
    "#which you will need to import first.\n",
    "\n",
    "from mlxtend.frequent_patterns import association_rules\n",
    "\n",
    "#Get the set of association rules.\n",
    "\n",
    "rules = association_rules(frequent_item_sets, min_threshold=0.5)\n",
    "\n",
    "#Now you just need to sort the rules and print them out.\n",
    "#You can have Python sort the rules for you before printing\n",
    "\n",
    "rules.sort_values(by=['support'], ascending=False).to_csv('rules.csv')"
   ]
  },
  {
   "cell_type": "code",
   "execution_count": null,
   "metadata": {},
   "outputs": [],
   "source": [
    "#View sorted file in this Notebook\n",
    "rules_sort = rules.sort_values(by=['support'], ascending=False)\n",
    "rules_sort.head()"
   ]
  },
  {
   "cell_type": "code",
   "execution_count": null,
   "metadata": {},
   "outputs": [],
   "source": [
    "#Question 4 of 11: What does it mean for this rule to have a support of 1.0?\n",
    "    \n",
    "#Answer: B. Both resources and content-specific decorations appear in every classroom"
   ]
  },
  {
   "cell_type": "code",
   "execution_count": null,
   "metadata": {},
   "outputs": [],
   "source": [
    "#Question 5 of 11: \n",
    "#What does it mean for this rule to have a confidence of 1.0 (which it does)?\n",
    "    \n",
    "#Answer: \n",
    "#D. Whenever resources appear in a classroom, \n",
    "#content-specific decorations are also present in the same classroom."
   ]
  },
  {
   "cell_type": "code",
   "execution_count": null,
   "metadata": {},
   "outputs": [],
   "source": [
    "#Question 6 of 11: \n",
    "#What is the support of the following rule:\n",
    "#yearly_schedule --> job_charts,schedule_day_week ?\n",
    "#Please use up to 4 decimal places.\n",
    "\n",
    "#Answer: 0.6667\n",
    "\n",
    "#Open your list of association rules using a spreadsheet tool. \n",
    "#Use column filtering to find the association rule."
   ]
  },
  {
   "cell_type": "code",
   "execution_count": null,
   "metadata": {},
   "outputs": [],
   "source": [
    "#Question 7 of 11: What is the confidence of the same rule ?\n",
    "#Please use up to 4 decimal places.\n",
    "#Answer: 0.6\n",
    "\n",
    "#Look at the value in the confidence column of the same association rule."
   ]
  },
  {
   "cell_type": "code",
   "execution_count": null,
   "metadata": {},
   "outputs": [],
   "source": [
    "#Question 8 of 11: What is the lift values for the same rule ?\n",
    "#Please use up to 4 decimal places.\n",
    "\n",
    "#Answer: 1.5\n",
    "\n",
    "#In order to get lift values, \n",
    "#get the list of association rules again, but this time, specify the lift metric.\n",
    "\n",
    "#You can do this by running the following code:\n",
    "rules_lift = association_rules(frequent_item_sets, metric=\"lift\", min_threshold=1)\n",
    "\n",
    "rules_lift.sort_values(by=['support'], ascending=False).to_csv('rules_lift.csv')\n",
    "\n",
    "rules_lift.head()\n",
    "#Print again to csv and search for the above rule.\n"
   ]
  }
 ],
 "metadata": {
  "kernelspec": {
   "display_name": "Python 3",
   "language": "python",
   "name": "python3"
  },
  "language_info": {
   "codemirror_mode": {
    "name": "ipython",
    "version": 3
   },
   "file_extension": ".py",
   "mimetype": "text/x-python",
   "name": "python",
   "nbconvert_exporter": "python",
   "pygments_lexer": "ipython3",
   "version": "3.7.3"
  }
 },
 "nbformat": 4,
 "nbformat_minor": 2
}
